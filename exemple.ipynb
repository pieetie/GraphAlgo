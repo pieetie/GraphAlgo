{
 "cells": [
  {
   "cell_type": "markdown",
   "id": "344af096-4c3d-4a04-8595-af4c03d3d97b",
   "metadata": {},
   "source": [
    "## Projet GraphAlgo (FR)\n",
    "Ce projet est un projet personnel, il me sert d'exercice : c'est pour ça que les explications sont donc en français.\n",
    "\n",
    "**Objectif(s)** :\n",
    "L'objectif principal est de créer un algorithme capable de générer un graphique boursier de manière procédurale.\n",
    "***\n"
   ]
  },
  {
   "cell_type": "markdown",
   "id": "c7b2b4b1-f4e4-4b66-b501-09942ce9d044",
   "metadata": {
    "jp-MarkdownHeadingCollapsed": true
   },
   "source": [
    "### Initialisation"
   ]
  },
  {
   "cell_type": "code",
   "execution_count": 1,
   "id": "a08dac6a-7723-4f5e-b0e1-b2d8365c47e8",
   "metadata": {},
   "outputs": [],
   "source": [
    "#import des librairies nécessaires\n",
    "import matplotlib.pyplot as plt\n",
    "import numpy as np\n",
    "import random\n",
    "\n",
    "%matplotlib inline"
   ]
  },
  {
   "cell_type": "markdown",
   "id": "1f020625-bfc9-452c-8f58-6e2d03f346e6",
   "metadata": {
    "jp-MarkdownHeadingCollapsed": true
   },
   "source": [
    "### Exemple d'utilisation"
   ]
  },
  {
   "cell_type": "code",
   "execution_count": 2,
   "id": "3f8321dc-ecc5-4bd7-93ce-4666437b6e3c",
   "metadata": {},
   "outputs": [
    {
     "data": {
      "image/png": "[encoded data removed]",
      "text/plain": [
       "<Figure size 640x480 with 1 Axes>"
      ]
     },
     "metadata": {},
     "output_type": "display_data"
    }
   ],
   "source": [
    "#exemple de base d'utilisation de matplotlib dans jupyter notebook\n",
    "x = range(3)\n",
    "y = [1, 2, 7]\n",
    "\n",
    "plt.plot(x, y) #création du graphique\n",
    "plt.title(\"Titre du graphique\")\n",
    "plt.xlabel(\"Titre axe X\")\n",
    "plt.ylabel(\"Titre axe Y\")\n",
    "\n",
    "plt.show() #affichage du graphique"
   ]
  },
  {
   "cell_type": "markdown",
   "id": "3b2d4e59-5f04-4a60-ba5d-8df511dd2920",
   "metadata": {
    "jp-MarkdownHeadingCollapsed": true
   },
   "source": [
    "### Début du projet - déclaration des variables\n",
    "On va essayer de générer des valeurs pour construire un graphique boursier sur une année. \n",
    "Les valeurs seront stockées par groupe (mois, jours), pour une année il nous faut donc 12 valeurs de mois (début du mois - jour 1 du mois en question) et 365 valeurs de jours sachant que les 12 valeurs de mois constituent déjà les valeurs des premiers jours de chaque mois.\n",
    "\n",
    "Dans cet exercice je vais utiliser la base d'un calendrier grégorien."
   ]
  },
  {
   "cell_type": "code",
   "execution_count": 3,
   "id": "0c0d654b-b095-49fb-8e42-0b35d8c47e69",
   "metadata": {},
   "outputs": [],
   "source": [
    "annee_classique = [31, 28, 31, 30, 31, 30, 31, 31, 30, 31, 30, 31]\n",
    "annee_bissextile = [31, 29, 31, 30, 31, 30, 31, 31, 30, 31, 30, 31]"
   ]
  },
  {
   "cell_type": "code",
   "execution_count": 4,
   "id": "50e308bf-9d45-4144-9440-ef4a242f09d3",
   "metadata": {},
   "outputs": [],
   "source": [
    "valeurs = [] #liste qui va stocker nos valeurs (points sur l'axe X à placer)\n",
    "annees = [] #liste qui va stocker les différentes années\n",
    "historique = {} #dictionnaire jour-valeur"
   ]
  },
  {
   "cell_type": "code",
   "execution_count": 5,
   "id": "4e4bbf2b-8b1c-4a6c-92ab-02f3d1518322",
   "metadata": {},
   "outputs": [],
   "source": [
    "valeur_depart = 100 #valeur par défaut\n",
    "f_reussite = 1 #facteur chance réussite\n",
    "f_faillite = 1 #facteur chance faillite\n",
    "taux = 0.05 #5% en moyenne\n",
    "probaNormale = 0.50 #50%"
   ]
  },
  {
   "cell_type": "markdown",
   "id": "7f79f1c6-bd65-4f27-801c-82a50ea39981",
   "metadata": {
    "jp-MarkdownHeadingCollapsed": true
   },
   "source": [
    "### Déclaration des fonctions"
   ]
  },
  {
   "cell_type": "code",
   "execution_count": 6,
   "id": "e4b47097-913d-4c47-89b2-a2383f137c81",
   "metadata": {},
   "outputs": [],
   "source": [
    "def njAnnee(annee):\n",
    "    \"\"\"\n",
    "    Retourne 366 si l'année est bissextile \n",
    "    Retourne 365 l'année est classique\n",
    "\n",
    "    Règles :\n",
    "    - une année est bissextile si elle est divisible par 4.\n",
    "    - si elle est divisible par 100 elle n'est pas bissextile sauf si elle est divisible par 400.\n",
    "    \"\"\"\n",
    "    if annee % 400 == 0:\n",
    "        return 366\n",
    "    elif annee % 100 == 0:\n",
    "        return 365\n",
    "    elif annee % 4 == 0:\n",
    "        return 366\n",
    "    else:\n",
    "        return 365"
   ]
  },
  {
   "cell_type": "code",
   "execution_count": 7,
   "id": "9812964f-7a17-4374-b431-904b7d0bf999",
   "metadata": {},
   "outputs": [],
   "source": [
    "def logiqueAnnee(debut, fin):\n",
    "    \"\"\"\n",
    "    Logique de calcul pour les différentes variables en lien avec les années, etc...\n",
    "    \"\"\"\n",
    "    annees = [annee for annee in range(debut,fin)] #l'année de fin n'est pas incluse\n",
    "    n_annees = len(annees)\n",
    "    n_mois = n_annees * 12\n",
    "    jours_ans = [njAnnee(annee) for annee in annees]\n",
    "    n_jours = sum(jours_ans)\n",
    "    return annees, n_annees, n_mois, jours_ans, n_jours"
   ]
  },
  {
   "cell_type": "code",
   "execution_count": 8,
   "id": "b8102dea-1711-46e0-b4bd-ca69c694dd8a",
   "metadata": {},
   "outputs": [],
   "source": [
    "def calcHisto(valeur_depart, ancienne_valeur, historique):\n",
    "    \"\"\"\n",
    "    Renvoie un indice (sur 100) de l'état de la valeur de l'action dans le temps (temps donné t) grâce à l'historique\n",
    "\n",
    "    50 : état normal\n",
    "    100 : état amélioré\n",
    "    0 : état diminué \n",
    "    \"\"\"\n",
    "    etat = 50\n",
    "    \n",
    "    if len(historique) < 10:\n",
    "        moyenne_totale = sum(historique.values()) / len(historique)\n",
    "        moyenne_dix = (ancienne_valeur + valeur_depart)/2\n",
    "    else :\n",
    "        dix_dernieres_valeurs = list(historique.values())[-10:]\n",
    "        \n",
    "        moyenne_totale = sum(historique.values()) / len(historique)\n",
    "        moyenne_dix = sum(dix_dernieres_valeurs) / len(dix_dernieres_valeurs)\n",
    "\n",
    "    #conditions\n",
    "    if moyenne_totale >= valeur_depart:\n",
    "        etat += 15\n",
    "    else:\n",
    "        etat -= 15\n",
    "\n",
    "    if moyenne_dix >= valeur_depart:\n",
    "        etat += 25\n",
    "    else:\n",
    "        etat -= 25\n",
    "\n",
    "    if ancienne_valeur >= valeur_depart:\n",
    "        etat += 10\n",
    "    else:\n",
    "        etat -= 10\n",
    "\n",
    "    return etat"
   ]
  },
  {
   "cell_type": "code",
   "execution_count": 9,
   "id": "a7d8b390-020e-45e7-aae6-f542ac8082b9",
   "metadata": {},
   "outputs": [],
   "source": [
    "def calcEtat(valeur_depart, ancienne_valeur, historique, probaNormale):\n",
    "    \"\"\"\n",
    "    Permet de calculer la probabilité de hausse ou de baisse pour la prochaine valeur\n",
    "    \"\"\"\n",
    "    seuil = 1 - probaNormale\n",
    "    etat = calcHisto(valeur_depart, ancienne_valeur, historique)\n",
    "    #print(f\"l'état est de : {etat}\")\n",
    "    \n",
    "    ajustement = 0\n",
    "    if etat < 50:\n",
    "        if etat == 30:\n",
    "            ajustement = 0.005\n",
    "        elif etat == 20:\n",
    "            ajustement = 0.01\n",
    "        else:\n",
    "            ajustement = 0.10\n",
    "    elif etat > 50:\n",
    "        if etat == 70:\n",
    "            ajustement = -0.005\n",
    "        elif etat == 80:\n",
    "            ajustement = -0.01\n",
    "        else:\n",
    "            ajustement = -0.10\n",
    "    \n",
    "    proba_baisse = round( ((1 - probaNormale) / 2) + (ajustement * seuil), 3)\n",
    "    proba_hausse = round( ((1 - probaNormale) / 2) - (ajustement * seuil), 3)\n",
    "\n",
    "    return proba_baisse, proba_hausse"
   ]
  },
  {
   "cell_type": "code",
   "execution_count": 10,
   "id": "b63d9f10-4531-4705-b1e2-292c4a904b39",
   "metadata": {},
   "outputs": [],
   "source": [
    "def tirage(probaNormale, proba_baisse, proba_hausse):\n",
    "    \"\"\"\n",
    "    Permet de déterminer par le hasard si une hausse, une diminution \n",
    "    ou une distribution normale va s'appliquer\n",
    "    \"\"\"\n",
    "    options = [\"Baisse\", \"Normale\", \"Hausse\"]\n",
    "    probabilites = [proba_baisse, probaNormale, proba_hausse]\n",
    "\n",
    "    selection = random.choices(options, weights=probabilites, k=1)[0]\n",
    "\n",
    "    return selection"
   ]
  },
  {
   "cell_type": "code",
   "execution_count": 11,
   "id": "4a3ccd1e-a34d-4b80-80dc-f8e9d9bd346d",
   "metadata": {},
   "outputs": [],
   "source": [
    "def baisse(ancienne_valeur):\n",
    "    \"\"\"\n",
    "    dépend largement des conditions de marché et de l'entreprise\n",
    "    probabilités à changer en fonction du type d'action...\n",
    "    (à compléter)\n",
    "    \"\"\"\n",
    "    probabilite_faillite = 0.001 \n",
    "    probabilite_chute = 0.005\n",
    "    probabilite_baisse = 1 - probabilite_faillite - probabilite_chute\n",
    "\n",
    "    options = [\"Faillite\", \"Baisse\", \"Chute\"]\n",
    "    probabilites = [probabilite_faillite, probabilite_baisse, probabilite_chute]\n",
    "\n",
    "    selection = random.choices(options, weights=probabilites, k=1)[0]\n",
    "\n",
    "    if selection == \"Faillite\":\n",
    "        #pertes pour une faillite de 10% à 95% \n",
    "        pertes = [round(-x, 2) for x in np.linspace(10, 95, 85*10+1)]\n",
    "        proba_pertes = [random.uniform(0.5, 1) for _ in pertes]\n",
    "        proba_pertes = [p/sum(proba_pertes) for p in proba_pertes]\n",
    "        \n",
    "        perte_selectionnee = random.choices(pertes, weights=proba_pertes, k=1)[0]\n",
    "    \n",
    "    elif selection == \"Chute\":\n",
    "        #pertes pour une chute de 5% à 10%\n",
    "        pertes = [round(-x, 2) for x in np.linspace(5, 10, 50+1)]\n",
    "        proba_pertes = [random.uniform(0.5, 1) for _ in pertes]\n",
    "        proba_pertes = [p/sum(proba_pertes) for p in proba_pertes]\n",
    "        \n",
    "        perte_selectionnee = random.choices(pertes, weights=proba_pertes, k=1)[0]\n",
    "\n",
    "    else: # == \"Baisse\":\n",
    "        #pertes pour une baisse de 0.01% à 1%\n",
    "        pertes = [round(-x, 2) for x in np.linspace(0.01, 1, 499+1)]\n",
    "        proba_pertes = [random.uniform(0.5, 1) for _ in pertes]\n",
    "        proba_pertes = [p/sum(proba_pertes) for p in proba_pertes]\n",
    "        \n",
    "        perte_selectionnee = random.choices(pertes, weights=proba_pertes, k=1)[0]\n",
    "        \n",
    "    nouvelle_valeur = ancienne_valeur * (1 + perte_selectionnee / 100.0)\n",
    "    return nouvelle_valeur"
   ]
  },
  {
   "cell_type": "code",
   "execution_count": 12,
   "id": "fd149c15-2576-4fcf-8760-e7a7bb275b3f",
   "metadata": {},
   "outputs": [],
   "source": [
    "def hausse(ancienne_valeur):\n",
    "    \"\"\"\n",
    "    dépend largement des conditions de marché et de l'entreprise\n",
    "    probabilités à changer en fonction du type d'action...\n",
    "    (à compléter)\n",
    "    \"\"\" \n",
    "    probabilite_hausse_significative = 0.001\n",
    "    probabilite_hausse_moderee = 0.005\n",
    "    probabilite_hausse_legere = 1 - probabilite_hausse_significative - probabilite_hausse_moderee\n",
    "\n",
    "    options = [\"Hausse légère\", \"Hausse modérée\", \"Hausse significative\"]\n",
    "    probabilites = [probabilite_hausse_legere, probabilite_hausse_moderee, probabilite_hausse_significative]\n",
    "\n",
    "    selection = random.choices(options, weights=probabilites, k=1)[0]\n",
    "\n",
    "    if selection == \"Hausse légère\":\n",
    "        #hausse légère de 0.01% à 1%\n",
    "        gains = [round(x, 2) for x in np.linspace(0.01, 1, 499+1)]\n",
    "        proba_gains = [random.uniform(0.5, 1) for _ in gains]\n",
    "        proba_gains = [p/sum(proba_gains) for p in proba_gains]\n",
    "\n",
    "        gain_selectionne = random.choices(gains, weights=proba_gains, k=1)[0]\n",
    "\n",
    "    elif selection == \"Hausse modérée\":\n",
    "        #hausse modérée de 1% à 10%\n",
    "        gains = [round(x, 2) for x in np.linspace(1, 10, 50+1)]\n",
    "        proba_gains = [random.uniform(0.5, 1) for _ in gains]\n",
    "        proba_gains = [p/sum(proba_gains) for p in proba_gains]\n",
    "\n",
    "        gain_selectionne = random.choices(gains, weights=proba_gains, k=1)[0]\n",
    "\n",
    "    else: # == \"Hausse significative\":\n",
    "        #hausse significative de 10% à 20%\n",
    "        gains = [round(x, 2) for x in np.linspace(10, 20, 100+1)]\n",
    "        proba_gains = [random.uniform(0.5, 1) for _ in gains]\n",
    "        proba_gains = [p/sum(proba_gains) for p in proba_gains]\n",
    "\n",
    "        gain_selectionne = random.choices(gains, weights=proba_gains, k=1)[0]\n",
    "\n",
    "    nouvelle_valeur = ancienne_valeur * (1 + gain_selectionne / 100.0)\n",
    "    return nouvelle_valeur"
   ]
  },
  {
   "cell_type": "code",
   "execution_count": 13,
   "id": "8d45f1b9-40f8-4f4c-a129-993a3a613499",
   "metadata": {},
   "outputs": [],
   "source": [
    "def calcul(jour, totjours, fxFaillite, fxReussite, taux, valeur_depart, ancienne_valeur, probaNormale, n_annees, historique):\n",
    "    \"\"\"\n",
    "    Fonction de calcul principale\n",
    "    \"\"\"\n",
    "    taux_journee = taux*n_annees / totjours #si tout ce passe bien, au bout d'un an on aura le taux annuel appliqué (si 100% probaNormale)\n",
    "    \n",
    "    if probaNormale == 1:\n",
    "        nouvelle_valeur = ancienne_valeur * (1+taux_journee)\n",
    "    else:\n",
    "        proba_baisse, proba_hausse = calcEtat(valeur_depart, ancienne_valeur, historique, probaNormale)\n",
    "        choix = tirage(probaNormale, proba_baisse, proba_hausse)\n",
    "        #print(choix)\n",
    "\n",
    "        if choix == \"Baisse\":\n",
    "            nouvelle_valeur = baisse(ancienne_valeur)\n",
    "        elif choix == \"Hausse\":\n",
    "            nouvelle_valeur = hausse(ancienne_valeur)\n",
    "        else:\n",
    "            nouvelle_valeur = ancienne_valeur * (1+taux_journee)\n",
    "        \n",
    "    return nouvelle_valeur"
   ]
  },
  {
   "cell_type": "markdown",
   "id": "f65742b3-394f-4ade-b707-e3f1d88f1f97",
   "metadata": {
    "jp-MarkdownHeadingCollapsed": true
   },
   "source": [
    "### Test de la logique du nombre d'années, jours, etc..\n",
    "L'utilisateur va dans un premier temps définir la date de départ ainsi que la date de fin.\n",
    "\n",
    "On considèrera que l'année de fin est supérieure à l'année de début (question de bon sens). "
   ]
  },
  {
   "cell_type": "markdown",
   "id": "0d0a47c1-d826-4a1b-9422-d702f744e650",
   "metadata": {},
   "source": [
    "**Entrée des valeurs de départ**"
   ]
  },
  {
   "cell_type": "code",
   "execution_count": 14,
   "id": "8e26cdba-2722-4fc5-97dc-261cd1a0b87e",
   "metadata": {},
   "outputs": [],
   "source": [
    "start_annee = 2024\n",
    "fin_annee = 2027"
   ]
  },
  {
   "cell_type": "code",
   "execution_count": 15,
   "id": "e1596a51-6e26-4788-ac89-a817272fa57b",
   "metadata": {},
   "outputs": [],
   "source": [
    "annees, n_annees, n_mois, jours_ans, n_jours = logiqueAnnee(start_annee, fin_annee) #voir \"déclaration des fonctions\" si on ne comprend pas"
   ]
  },
  {
   "cell_type": "markdown",
   "id": "86ca434d-f75e-4a4f-a0df-4d480a10d0a5",
   "metadata": {},
   "source": [
    "**Vérification**"
   ]
  },
  {
   "cell_type": "code",
   "execution_count": 16,
   "id": "7e82aafb-ff65-4ab4-93e3-7341e463b01b",
   "metadata": {},
   "outputs": [
    {
     "name": "stdout",
     "output_type": "stream",
     "text": [
      "Liste des années [2024, 2025, 2026]\n",
      "Nombre d'années : 3\n",
      "Nombre de mois : 36\n",
      "Liste du nombre de jours par année : [366, 365, 365]\n",
      "Nombre de jours au total : 1096\n"
     ]
    }
   ],
   "source": [
    "print(f\"Liste des années {annees}\")\n",
    "print(f\"Nombre d'années : {n_annees}\")\n",
    "print(f\"Nombre de mois : {n_mois}\")\n",
    "print(f\"Liste du nombre de jours par année : {jours_ans}\")\n",
    "print(f\"Nombre de jours au total : {n_jours}\")"
   ]
  },
  {
   "cell_type": "markdown",
   "id": "f60aed23-30c5-411d-a003-002847d6fa14",
   "metadata": {},
   "source": [
    "### Création d'un graphique"
   ]
  },
  {
   "cell_type": "markdown",
   "id": "7caeede8-8b73-4d78-b94d-bcf47bfead04",
   "metadata": {},
   "source": [
    "**Ajustement des paramètres**"
   ]
  },
  {
   "cell_type": "code",
   "execution_count": 17,
   "id": "bfafba4c-6605-4c30-ac2f-6c20bc6ed994",
   "metadata": {},
   "outputs": [],
   "source": [
    "start_annee = 2024\n",
    "fin_annee = 2025\n",
    "\n",
    "valeur_depart = 100\n",
    "f_reussite = 1\n",
    "f_faillite = 1\n",
    "taux = 0.05\n",
    "probaNormale = 0.40"
   ]
  },
  {
   "cell_type": "markdown",
   "id": "e2970410-87f8-4895-a925-9df1893baf4d",
   "metadata": {},
   "source": [
    "**Résultat obtenu lors de cette génération à partir de ces paramètres**\n",
    "\n",
    "Note : perte de précision car python arrondit les calculs de taux au fur et à mesure (pas si grave)"
   ]
  },
  {
   "cell_type": "code",
   "execution_count": 18,
   "id": "baedf7cc-e8fd-4f19-bcee-09af2ef27cb4",
   "metadata": {},
   "outputs": [
    {
     "data": {
      "image/png": "[encoded data removed]",
      "text/plain": [
       "<Figure size 640x480 with 1 Axes>"
      ]
     },
     "metadata": {},
     "output_type": "display_data"
    }
   ],
   "source": [
    "annees, n_annees, n_mois, jours_ans, n_jours = logiqueAnnee(start_annee, fin_annee)\n",
    "compteur = 0\n",
    "valeurs.append(valeur_depart)\n",
    "\n",
    "historique = {}\n",
    "historique[0]= valeur_depart\n",
    "\n",
    "for i in range(1,n_jours+1):\n",
    "    if compteur == 0:\n",
    "        ancienne_valeur = valeur_depart\n",
    "        valeurs.append(calcul(i, n_jours, f_faillite, f_reussite, taux, valeur_depart, ancienne_valeur, probaNormale, n_annees, historique))\n",
    "        historique[i]= valeurs[i]\n",
    "    else:\n",
    "        ancienne_valeur = valeurs[i-1]\n",
    "        valeurs.append(calcul(i, n_jours, f_faillite, f_reussite, taux, valeur_depart, ancienne_valeur, probaNormale, n_annees, historique))\n",
    "        historique[i]= valeurs[i]\n",
    "    compteur += 1\n",
    "\n",
    "#print(historique)\n",
    "#print(\"#####\")\n",
    "#print(valeurs)\n",
    "#en gros x représente les jours alors que y représente les valeurs boursières\n",
    "x = range(1,n_jours+1+1) #+1 car on prend 0 au départ comme valeur de depart\n",
    "y = valeurs\n",
    "\n",
    "plt.plot(x, y)\n",
    "plt.title(\"Représentation graphique de l'évolution d'un titre sur 1 année\")\n",
    "plt.xlabel(\"Jours\")\n",
    "plt.ylabel(\"Valeurs\")\n",
    "\n",
    "plt.show()"
   ]
  }
 ],
 "metadata": {
  "kernelspec": {
   "display_name": "Python 3 (ipykernel)",
   "language": "python",
   "name": "python3"
  },
  "language_info": {
   "codemirror_mode": {
    "name": "ipython",
    "version": 3
   },
   "file_extension": ".py",
   "mimetype": "text/x-python",
   "name": "python",
   "nbconvert_exporter": "python",
   "pygments_lexer": "ipython3",
   "version": "3.9.0"
  }
 },
 "nbformat": 4,
 "nbformat_minor": 5
}
